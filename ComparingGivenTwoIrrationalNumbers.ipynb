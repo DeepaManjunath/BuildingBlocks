{
 "cells": [
  {
   "cell_type": "code",
   "execution_count": 8,
   "id": "d943cfed",
   "metadata": {},
   "outputs": [
    {
     "name": "stdout",
     "output_type": "stream",
     "text": [
      "3^(1/2) > 5^(1/5)\n"
     ]
    }
   ],
   "source": [
    "def ComparingGivenTwoIrrationalNumbers(number):\n",
    "    \n",
    "    \n",
    "    \n",
    "    test_str = number.find(\",\")\n",
    "    res1=number[:test_str]\n",
    "    res2=number[test_str+1:]\n",
    " \n",
    "   \n",
    "    \n",
    "    test1=res1.find(\"*\")\n",
    "    \n",
    "    if(test1>-1):\n",
    "        number1_1=int(res1[:test1])\n",
    "        \n",
    "        number_between=(res1[test1+1:])\n",
    "        power=number_between.find(\"^\")\n",
    "        slash=\"/\"\n",
    "        number1_2=int(number_between[:power])\n",
    "        number_between1=number_between[power+1:]\n",
    "        slash_index=number_between1.find(slash)\n",
    "        \n",
    "        pow_number1=int(number_between1[slash_index+1:-1])\n",
    "        pow_number1=float(1/pow_number1)\n",
    "        \n",
    "    else:\n",
    "        number1_1=1\n",
    "        \n",
    "        power=res1.find(\"^\")\n",
    "        number1_2=int(res1[:power])\n",
    "        slash=\"/\"\n",
    "        number_between1=res1[power+1:]\n",
    "        slash_index=number_between1.find(slash)\n",
    "        pow_number1=int(number_between1[slash_index+1:-1])\n",
    "        pow_number1=float(1/pow_number1)\n",
    "        \n",
    "    \n",
    "   \n",
    "    \n",
    "    test2=res2.find(\"*\")\n",
    "    \n",
    "    if(test2>-1):\n",
    "        number2_1=int(res2[:test2])\n",
    "        \n",
    "        number_between=(res2[test2+1:])\n",
    "        power=number_between.find(\"^\")\n",
    "        number2_2=int(number_between[:power])\n",
    "        slash=\"/\"\n",
    "        \n",
    "        number_between1=number_between[power+1:]\n",
    "        slash_index=number_between1.find(slash)\n",
    "        pow_number2=int(number_between1[slash_index+1:-1])\n",
    "        pow_number2=float(1/pow_number2)\n",
    "        \n",
    "        \n",
    "    else:\n",
    "        number2_1=1\n",
    "        \n",
    "        power=res2.find(\"^\")\n",
    "        number2_2=int(res2[:power]) \n",
    "        slash=\"/\"\n",
    "        number_between1=res2[power+1:]\n",
    "        slash_index=number_between1.find(slash)\n",
    "        pow_number2=int(number_between1[slash_index+1:-1])\n",
    "        pow_number2=float(1/pow_number2)\n",
    "        \n",
    "        \n",
    "        \n",
    "   \n",
    "    number1_square=pow(number1_2,pow_number1)*number1_1\n",
    "    \n",
    "    number2_square=pow(number2_2,pow_number2)*number2_1\n",
    "    \n",
    "    \n",
    "    \n",
    "    check1_number1=number1_square\n",
    "    \n",
    "    check1_number2=number2_square\n",
    "    \n",
    "   \n",
    "    \n",
    "    if(check1_number1>check1_number2):\n",
    "        Final=res1+\" > \"+res2\n",
    "    elif(check1_number1<check1_number2):\n",
    "        Final=res2+\" > \"+res1\n",
    "    elif(check1_number1==check1_number2):\n",
    "        if(check2_number1>check2_number2):\n",
    "            Final=res1+\" > \"+res2\n",
    "        elif(check2_number1==check2_number2):\n",
    "            Final=res1+\" = \"+res2\n",
    "        else:\n",
    "            Final=res2+\" > \"+res1\n",
    "    \n",
    "    \n",
    "   \n",
    "    \n",
    "   \n",
    "    return(Final)\n",
    "    \n",
    "  \n",
    " \n",
    "\n",
    "y1=\"2*3^(1/2),5^(1/2)\"\n",
    "\n",
    "y2=\"3^(1/2),5^(1/5)\"\n",
    "\n",
    "\n",
    "\n",
    "\n",
    "\n",
    "\n",
    "\n",
    "\n",
    "\n",
    "final=ComparingGivenTwoIrrationalNumbers(y2)\n",
    "print(final)\n"
   ]
  },
  {
   "cell_type": "code",
   "execution_count": 5,
   "id": "a162b1c6",
   "metadata": {},
   "outputs": [
    {
     "data": {
      "text/plain": [
       "0"
      ]
     },
     "execution_count": 5,
     "metadata": {},
     "output_type": "execute_result"
    }
   ],
   "source": [
    "import math\n",
    "int(math.sqrt(8)%2)"
   ]
  },
  {
   "cell_type": "code",
   "execution_count": null,
   "id": "7f7c9fea",
   "metadata": {},
   "outputs": [],
   "source": []
  }
 ],
 "metadata": {
  "kernelspec": {
   "display_name": "Python 3 (ipykernel)",
   "language": "python",
   "name": "python3"
  },
  "language_info": {
   "codemirror_mode": {
    "name": "ipython",
    "version": 3
   },
   "file_extension": ".py",
   "mimetype": "text/x-python",
   "name": "python",
   "nbconvert_exporter": "python",
   "pygments_lexer": "ipython3",
   "version": "3.9.12"
  }
 },
 "nbformat": 4,
 "nbformat_minor": 5
}
